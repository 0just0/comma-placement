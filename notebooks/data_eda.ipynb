{
 "cells": [
  {
   "cell_type": "code",
   "execution_count": 4,
   "metadata": {},
   "outputs": [
    {
     "name": "stderr",
     "output_type": "stream",
     "text": [
      "/Users/dtemnov/Projects/comma_placement/.venv/lib/python3.11/site-packages/tqdm/auto.py:21: TqdmWarning: IProgress not found. Please update jupyter and ipywidgets. See https://ipywidgets.readthedocs.io/en/stable/user_install.html\n",
      "  from .autonotebook import tqdm as notebook_tqdm\n"
     ]
    }
   ],
   "source": [
    "from datasets import load_dataset\n",
    "import re"
   ]
  },
  {
   "cell_type": "markdown",
   "metadata": {},
   "source": [
    "# Get WikiText"
   ]
  },
  {
   "cell_type": "code",
   "execution_count": 5,
   "metadata": {},
   "outputs": [
    {
     "name": "stderr",
     "output_type": "stream",
     "text": [
      "/Users/dtemnov/Projects/comma_placement/.venv/lib/python3.11/site-packages/datasets/table.py:1421: FutureWarning: promote has been superseded by mode='default'.\n",
      "  table = cls._concat_blocks(blocks, axis=0)\n"
     ]
    }
   ],
   "source": [
    "dataset = load_dataset(\"wikitext\", 'wikitext-103-v1')"
   ]
  },
  {
   "cell_type": "markdown",
   "metadata": {},
   "source": [
    "## Prepare dataset"
   ]
  },
  {
   "cell_type": "markdown",
   "metadata": {},
   "source": [
    "Wikitext contains a lot of delimiters and empty lines, so we need to clean it up a little bit."
   ]
  },
  {
   "cell_type": "code",
   "execution_count": 53,
   "metadata": {},
   "outputs": [],
   "source": [
    "space_remover = r'\\s([,?.!:;](?:\\s|$))'\n",
    "quote_space_remover = r'\"\\s*([^\"]*?)\\s*\"'\n",
    "\n",
    "def remove_spaces(samples):\n",
    "    samples = [sample.strip() for sample in samples]\n",
    "    samples = [re.sub(space_remover, r'\\1', sample) for sample in samples]\n",
    "    samples = [re.sub(quote_space_remover, r'\"\\1\"', sample) for sample in samples]\n",
    "    samples = [sample.replace(\" '\", \"'\") for sample in samples]\n",
    "    return samples\n",
    "\n",
    "def remove_empty(samples: list) -> list:\n",
    "    samples = [sample for sample in samples if sample]\n",
    "    return samples\n",
    "\n",
    "def remove_titles(samples: list) -> list:\n",
    "    samples = [sample for sample in samples if \"=\" not in sample]\n",
    "    return samples\n",
    "\n",
    "def remove_short(samples: list) -> list:\n",
    "    samples = [sample for sample in samples if len(sample) > 300]\n",
    "    return samples\n",
    "\n",
    "def preprocess_texts(samples: list) -> list:\n",
    "    samples = remove_titles(samples)\n",
    "    samples = remove_spaces(samples)\n",
    "    samples = remove_empty(samples)\n",
    "    samples = remove_short(samples)\n",
    "    return samples"
   ]
  },
  {
   "cell_type": "code",
   "execution_count": 54,
   "metadata": {},
   "outputs": [],
   "source": [
    "dataset_train = dataset[\"train\"][0:100000][\"text\"]"
   ]
  },
  {
   "cell_type": "code",
   "execution_count": null,
   "metadata": {},
   "outputs": [],
   "source": [
    "dataset_train[:10]"
   ]
  },
  {
   "cell_type": "code",
   "execution_count": 56,
   "metadata": {},
   "outputs": [],
   "source": [
    "samples = preprocess_texts(dataset_train)"
   ]
  },
  {
   "cell_type": "code",
   "execution_count": 57,
   "metadata": {},
   "outputs": [
    {
     "data": {
      "text/plain": [
       "35204"
      ]
     },
     "execution_count": 57,
     "metadata": {},
     "output_type": "execute_result"
    }
   ],
   "source": [
    "len(samples)"
   ]
  },
  {
   "cell_type": "markdown",
   "metadata": {},
   "source": [
    "The final total size of the dataset is about 35k samples. This amount of data should be enough for training and validation for this pretty simple task."
   ]
  },
  {
   "cell_type": "code",
   "execution_count": 58,
   "metadata": {},
   "outputs": [],
   "source": [
    "with open(\"../data/raw/raw_wiki_lines.txt\", \"w\") as f:\n",
    "    f.writelines([sample+\"\\n\" for sample in samples])"
   ]
  },
  {
   "cell_type": "code",
   "execution_count": null,
   "metadata": {},
   "outputs": [],
   "source": []
  }
 ],
 "metadata": {
  "kernelspec": {
   "display_name": ".venv",
   "language": "python",
   "name": "python3"
  },
  "language_info": {
   "codemirror_mode": {
    "name": "ipython",
    "version": 3
   },
   "file_extension": ".py",
   "mimetype": "text/x-python",
   "name": "python",
   "nbconvert_exporter": "python",
   "pygments_lexer": "ipython3",
   "version": "3.11.3"
  }
 },
 "nbformat": 4,
 "nbformat_minor": 2
}
